{
 "cells": [
  {
   "cell_type": "markdown",
   "id": "18aa9587",
   "metadata": {},
   "source": [
    "### Document Portal Notes and Commands\n",
    "https://github.com/rk89git/document_portal"
   ]
  },
  {
   "cell_type": "markdown",
   "id": "4beb879b",
   "metadata": {},
   "source": [
    "Create a virtual env\n",
    "--conda create -p venv python==3.10 -y\n",
    "\n",
    "Activate Virtual env\n",
    "--conda activate ./venv\n",
    "\n",
    "Install your project a package\n",
    "pip install -e .\n",
    "\n",
    "Check your project as a package\n",
    "pip list\n",
    "\n",
    "Note: document_portal should be listed\n"
   ]
  },
  {
   "cell_type": "markdown",
   "id": "172a0250",
   "metadata": {},
   "source": []
  }
 ],
 "metadata": {
  "language_info": {
   "name": "python"
  }
 },
 "nbformat": 4,
 "nbformat_minor": 5
}
